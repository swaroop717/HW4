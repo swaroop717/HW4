{
 "cells": [
  {
   "cell_type": "code",
   "execution_count": 7,
   "metadata": {},
   "outputs": [],
   "source": [
    "f = open('rosalind_subs (1).txt')\n",
    "s1 = f.readline().strip()\n",
    "s2 = f.readline().strip()\n",
    "pos = []"
   ]
  },
  {
   "cell_type": "code",
   "execution_count": 8,
   "metadata": {},
   "outputs": [],
   "source": [
    "for i in range(len(s1)):\n",
    "    if s2 == s1[i: i+len(s2)]:\n",
    "        pos.append(i+1)"
   ]
  },
  {
   "cell_type": "code",
   "execution_count": 9,
   "metadata": {},
   "outputs": [
    {
     "name": "stdout",
     "output_type": "stream",
     "text": [
      "2 9 16 51 71 78 85 169 176 183 218 234 292 299 306 336 378 413 478 495 541 548 555 605 620 685 701 717 762 801 848 855 873 918 "
     ]
    }
   ],
   "source": [
    "for j in pos:\n",
    "    print(j, end=\" \")"
   ]
  }
 ],
 "metadata": {
  "kernelspec": {
   "display_name": "Python 3",
   "language": "python",
   "name": "python3"
  },
  "language_info": {
   "codemirror_mode": {
    "name": "ipython",
    "version": 3
   },
   "file_extension": ".py",
   "mimetype": "text/x-python",
   "name": "python",
   "nbconvert_exporter": "python",
   "pygments_lexer": "ipython3",
   "version": "3.8.3"
  }
 },
 "nbformat": 4,
 "nbformat_minor": 4
}
