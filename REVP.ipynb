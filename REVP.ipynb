{
 "cells": [
  {
   "cell_type": "code",
   "execution_count": 19,
   "metadata": {},
   "outputs": [],
   "source": [
    "from Bio import SeqIO\n",
    "s_name, seq = [], []\n",
    "with open (\"rosalind_revp (1).txt\",'r') as f:\n",
    "    for k in SeqIO.parse(f,'fasta'):\n",
    "        s_name.append(str(k.name))\n",
    "        seq.append(str(k.seq))\n",
    "s = seq[0]"
   ]
  },
  {
   "cell_type": "code",
   "execution_count": 20,
   "metadata": {},
   "outputs": [],
   "source": [
    "def revcom(s):\n",
    "    s = s[::-1]\n",
    "    rev = ''\n",
    "    for p in range(len(s)):\n",
    "        if s[p] == 'A':\n",
    "            rev += 'T'\n",
    "        elif s[p] == 'T':\n",
    "            rev += 'A'\n",
    "        elif s[p] == 'G':\n",
    "            rev += 'C'\n",
    "        elif s[p] == 'C':\n",
    "            rev += 'G'\n",
    "    return rev"
   ]
  },
  {
   "cell_type": "code",
   "execution_count": 21,
   "metadata": {},
   "outputs": [
    {
     "name": "stdout",
     "output_type": "stream",
     "text": [
      "1 4\n",
      "26 4\n",
      "31 4\n",
      "69 6\n",
      "70 4\n",
      "74 4\n",
      "96 4\n",
      "97 4\n",
      "102 6\n",
      "103 4\n",
      "106 4\n",
      "116 4\n",
      "130 6\n",
      "131 4\n",
      "146 4\n",
      "150 4\n",
      "158 8\n",
      "159 6\n",
      "160 4\n",
      "163 6\n",
      "164 4\n",
      "207 4\n",
      "213 10\n",
      "214 8\n",
      "215 6\n",
      "216 4\n",
      "235 4\n",
      "245 4\n",
      "254 4\n",
      "259 4\n",
      "263 4\n",
      "267 4\n",
      "284 4\n",
      "305 4\n",
      "346 4\n",
      "378 4\n",
      "397 12\n",
      "398 10\n",
      "399 8\n",
      "400 6\n",
      "401 4\n",
      "430 4\n",
      "435 4\n",
      "456 4\n",
      "458 4\n",
      "461 4\n",
      "484 6\n",
      "485 4\n",
      "509 4\n",
      "539 4\n",
      "553 4\n",
      "554 4\n",
      "575 4\n",
      "578 4\n",
      "611 8\n",
      "612 6\n",
      "613 4\n",
      "627 6\n",
      "628 4\n",
      "643 4\n",
      "644 4\n",
      "659 4\n",
      "661 4\n",
      "708 4\n",
      "736 4\n",
      "742 4\n",
      "784 8\n",
      "785 6\n",
      "786 4\n",
      "801 4\n"
     ]
    }
   ],
   "source": [
    " for i in range(len(s)):\n",
    "        for j in range(4,13,1):\n",
    "            if s[i:i+j] == revcom(s[i:i+j]) and (i+j <= len(s)):\n",
    "                print(i+1, j)"
   ]
  }
 ],
 "metadata": {
  "kernelspec": {
   "display_name": "Python 3",
   "language": "python",
   "name": "python3"
  },
  "language_info": {
   "codemirror_mode": {
    "name": "ipython",
    "version": 3
   },
   "file_extension": ".py",
   "mimetype": "text/x-python",
   "name": "python",
   "nbconvert_exporter": "python",
   "pygments_lexer": "ipython3",
   "version": "3.8.3"
  }
 },
 "nbformat": 4,
 "nbformat_minor": 4
}
