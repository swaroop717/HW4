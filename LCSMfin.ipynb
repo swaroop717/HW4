{
 "cells": [
  {
   "cell_type": "code",
   "execution_count": 6,
   "metadata": {},
   "outputs": [],
   "source": [
    "import sys\n",
    "def main():\n",
    "    with open('rosalind_lcsm (1).txt') as f:\n",
    "        dna_arr = []\n",
    "        content = f.read().split()\n",
    "        ind = [i for i,val in enumerate(content) if '>' in val]\n",
    "        for i in range(len(ind)-1):\n",
    "            dna_arr.append(\"\".join(content[ind[i]+1:ind[i+1]]))\n",
    "        dna_arr.append(\"\".join(content[ind[len(ind)-1]+1:]))"
   ]
  },
  {
   "cell_type": "code",
   "execution_count": null,
   "metadata": {},
   "outputs": [],
   "source": [
    "dna_1 = dna_arr[0]\n",
    "    l = len(dna_1)\n",
    "    m = len(dna_arr)\n",
    "    lcs = \"\"\n",
    "    for i in range(l):\n",
    "        for j in range(i+1,l+1):\n",
    "            sub_dna = dna_1[i:j]\n",
    "            is_contained = True\n",
    "            for k in range(1,m):\n",
    "                if not sub_dna in dna_arr[k]:\n",
    "                    is_contained = False\n",
    "                    break\n",
    "            if is_contained and len(lcs) < len(sub_dna):\n",
    "                lcs = sub_dna\n",
    "    print(lcs)"
   ]
  },
  {
   "cell_type": "code",
   "execution_count": null,
   "metadata": {},
   "outputs": [],
   "source": [
    "if __name__ == \"__main__\":\n",
    "    main()"
   ]
  }
 ],
 "metadata": {
  "kernelspec": {
   "display_name": "Python 3",
   "language": "python",
   "name": "python3"
  },
  "language_info": {
   "codemirror_mode": {
    "name": "ipython",
    "version": 3
   },
   "file_extension": ".py",
   "mimetype": "text/x-python",
   "name": "python",
   "nbconvert_exporter": "python",
   "pygments_lexer": "ipython3",
   "version": "3.8.3"
  }
 },
 "nbformat": 4,
 "nbformat_minor": 4
}
