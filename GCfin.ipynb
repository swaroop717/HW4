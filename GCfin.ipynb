{
 "cells": [
  {
   "cell_type": "code",
   "execution_count": 3,
   "metadata": {},
   "outputs": [],
   "source": [
    "from Bio import SeqIO\n",
    "\n",
    "fasta_sequences = SeqIO.parse(open('rosalind_gc.txt'),'fasta')\n",
    "s_id =[]\n",
    "s_seq = []\n",
    "\n",
    "for fasta in fasta_sequences:\n",
    "    s_id.append(fasta.id)\n",
    "    s_seq.append(str(fasta.seq))"
   ]
  },
  {
   "cell_type": "code",
   "execution_count": 4,
   "metadata": {},
   "outputs": [
    {
     "name": "stdout",
     "output_type": "stream",
     "text": [
      "Rosalind_5776\n",
      "51.580135440180584\n"
     ]
    }
   ],
   "source": [
    "l=[((seq.count('C')+seq.count('G'))/len(seq)) for seq in s_seq]\n",
    "gc=max(l)\n",
    "print(s_id[l.index(gc)])\n",
    "print(gc*100)"
   ]
  },
  {
   "cell_type": "code",
   "execution_count": null,
   "metadata": {},
   "outputs": [],
   "source": []
  }
 ],
 "metadata": {
  "kernelspec": {
   "display_name": "Python 3",
   "language": "python",
   "name": "python3"
  },
  "language_info": {
   "codemirror_mode": {
    "name": "ipython",
    "version": 3
   },
   "file_extension": ".py",
   "mimetype": "text/x-python",
   "name": "python",
   "nbconvert_exporter": "python",
   "pygments_lexer": "ipython3",
   "version": "3.8.3"
  }
 },
 "nbformat": 4,
 "nbformat_minor": 2
}
