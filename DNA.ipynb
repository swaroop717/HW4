{
 "cells": [
  {
   "cell_type": "code",
   "execution_count": 15,
   "metadata": {},
   "outputs": [],
   "source": [
    "f = open('rosalind_dna.txt')\n",
    "dna = f.readline().strip()"
   ]
  },
  {
   "cell_type": "code",
   "execution_count": 17,
   "metadata": {},
   "outputs": [
    {
     "name": "stdout",
     "output_type": "stream",
     "text": [
      "207 221 225 249\n"
     ]
    }
   ],
   "source": [
    "l=[]\n",
    "a,c,g,t = 0,0,0,0\n",
    "for i in range(len(dna)):\n",
    "    if(dna[i] == \"A\"):\n",
    "        a+=1\n",
    "    elif(dna[i] == \"C\"):\n",
    "        c+=1\n",
    "    elif(dna[i] == \"G\"):\n",
    "        g+=1\n",
    "    elif(dna[i] == \"T\"):\n",
    "        t+=1\n",
    "l.append(a)\n",
    "l.append(c)\n",
    "l.append(g)\n",
    "l.append(t)\n",
    "print(*l)"
   ]
  }
 ],
 "metadata": {
  "kernelspec": {
   "display_name": "Python 3",
   "language": "python",
   "name": "python3"
  },
  "language_info": {
   "codemirror_mode": {
    "name": "ipython",
    "version": 3
   },
   "file_extension": ".py",
   "mimetype": "text/x-python",
   "name": "python",
   "nbconvert_exporter": "python",
   "pygments_lexer": "ipython3",
   "version": "3.8.3"
  }
 },
 "nbformat": 4,
 "nbformat_minor": 4
}
