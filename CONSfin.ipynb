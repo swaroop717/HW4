{
 "cells": [
  {
   "cell_type": "code",
   "execution_count": 3,
   "metadata": {},
   "outputs": [],
   "source": [
    "import pandas as pd\n",
    "with open('rosalind_cons.txt') as f:\n",
    "    f_read = f.readline().rstrip()\n",
    "    seq, name = [], []\n",
    "    while f_read:\n",
    "        f_seq = ''\n",
    "        while f_read.startswith('>'):\n",
    "            name.append(f_read.rstrip())\n",
    "            f_read = f.readline().rstrip()\n",
    "        while not f_read.startswith('>') and f_read:\n",
    "            f_seq = f_seq + f_read.rstrip()\n",
    "            f_read = f.readline().rstrip()\n",
    "        seq.append(f_seq)"
   ]
  },
  {
   "cell_type": "code",
   "execution_count": 4,
   "metadata": {},
   "outputs": [],
   "source": [
    "base_split = [[n for n in seqence] for seqence in seq]\n",
    "df = pd.DataFrame(base_split, index=name)\n",
    "a = ''\n",
    "c, f = [], []"
   ]
  },
  {
   "cell_type": "code",
   "execution_count": 5,
   "metadata": {},
   "outputs": [],
   "source": [
    "for i in range(len(seq[0])):\n",
    "    for n in df[i]:\n",
    "        a = a+n\n",
    "    e = [a.count(nuc) for nuc in 'ACGT']\n",
    "    b = pd.DataFrame(e, index=('A:','C:','G:','T:'))\n",
    "    b.columns = [i]\n",
    "    c.append(b)\n",
    "    f.append(e)\n",
    "    a = ''"
   ]
  },
  {
   "cell_type": "code",
   "execution_count": 7,
   "metadata": {},
   "outputs": [
    {
     "name": "stdout",
     "output_type": "stream",
     "text": [
      "TCAATGCATGCGGGTCTATATGCAT\n",
      "    0   1   2   3   4   5   6   7   8   9   ...  15  16  17  18  19  20  21  \\\n",
      "A:   0   0   1   1   0   0   0   1   0   0  ...   0   0   1   0   1   0   0   \n",
      "C:   0   1   0   0   0   0   1   0   0   0  ...   1   0   0   0   0   0   0   \n",
      "G:   0   0   0   0   0   1   0   0   0   1  ...   0   0   0   0   0   0   1   \n",
      "T:   1   0   0   0   1   0   0   0   1   0  ...   0   1   0   1   0   1   0   \n",
      "\n",
      "    22  23  24  \n",
      "A:   0   1   0  \n",
      "C:   1   0   0  \n",
      "G:   0   0   0  \n",
      "T:   0   0   1  \n",
      "\n",
      "[4 rows x 25 columns]\n"
     ]
    }
   ],
   "source": [
    "count_out = pd.concat(c, axis=1)\n",
    "dict = {0: 'A', 1: 'C', 2: 'G', 3: 'T'}\n",
    "Consensus = ''.join(dict[f[i].index(max(f[i]))] for i in range(len(seq[0])))\n",
    "print(Consensus)\n",
    "print(count_out)"
   ]
  }
 ],
 "metadata": {
  "kernelspec": {
   "display_name": "Python 3",
   "language": "python",
   "name": "python3"
  },
  "language_info": {
   "codemirror_mode": {
    "name": "ipython",
    "version": 3
   },
   "file_extension": ".py",
   "mimetype": "text/x-python",
   "name": "python",
   "nbconvert_exporter": "python",
   "pygments_lexer": "ipython3",
   "version": "3.8.3"
  }
 },
 "nbformat": 4,
 "nbformat_minor": 4
}
